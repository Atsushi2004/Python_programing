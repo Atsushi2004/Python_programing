{
  "nbformat": 4,
  "nbformat_minor": 0,
  "metadata": {
    "kernelspec": {
      "display_name": "Python 3",
      "language": "python",
      "name": "python3"
    },
    "language_info": {
      "name": "python"
    },
    "nbsphinx": {
      "execute": "never"
    },
    "colab": {
      "name": "東京大学python練習帳セクション１",
      "provenance": [],
      "include_colab_link": true
    }
  },
  "cells": [
    {
      "cell_type": "markdown",
      "metadata": {
        "id": "view-in-github",
        "colab_type": "text"
      },
      "source": [
        "<a href=\"https://colab.research.google.com/github/Atsushi2004/Python_programing/blob/main/%E6%9D%B1%E4%BA%AC%E5%A4%A7%E5%AD%A6python%E7%B7%B4%E7%BF%92%E5%B8%B3%E3%82%BB%E3%82%AF%E3%82%B7%E3%83%A7%E3%83%B3%EF%BC%91.ipynb\" target=\"_parent\"><img src=\"https://colab.research.google.com/assets/colab-badge.svg\" alt=\"Open In Colab\"/></a>"
      ]
    },
    {
      "cell_type": "markdown",
      "metadata": {
        "id": "vx_98iGJdzNp"
      },
      "source": [
        "# 1-0. Colaboratoryによるノートブックの使い方\n",
        "\n",
        "Colaboratoryによるノートブックの使い方について説明します。\n",
        "\n",
        "## Colaboratoryの立ち上げ\n",
        "\n",
        "ブラウザにGoogleアカウント（個人でもECCSでもどちらでもよい）でログインした後に、以下のURLを開いてください。\n",
        "    \n",
        "- https://colab.research.google.com/"
      ]
    },
    {
      "cell_type": "markdown",
      "metadata": {
        "id": "XwgHxc8HdzOA"
      },
      "source": [
        "## ノートブックのアップロード\n",
        "\n",
        "Colaboratoryを立ち上げると、以下のようにノートブックを指定することが求められますので、\n",
        "「アップロード」のタブを選択してください。\n",
        "\n",
        "![](https://raw.githubusercontent.com/utokyo-ipp/utokyo-ipp.github.io/master/colab/./1/colab1.png)\n",
        "\n",
        "そして、アップロードすべきファイルを指定してください。\n",
        "\n",
        "![](https://raw.githubusercontent.com/utokyo-ipp/utokyo-ipp.github.io/master/colab/./1/colab2.png)"
      ]
    },
    {
      "cell_type": "markdown",
      "metadata": {
        "id": "cDfBUDiPdzOE"
      },
      "source": [
        "指定したファイルは、いったん自分の Google Drive にアップロードされてから、\n",
        "Colaboratoryによって開かれます。\n",
        "ブラウザでは以下のように表示されるでしょう。\n",
        "\n",
        "![](https://raw.githubusercontent.com/utokyo-ipp/utokyo-ipp.github.io/master/colab/./1/colab3.png)\n",
        "\n",
        "なお、ノートブックには `ipynb` という拡張子（エクステンション）が付いています。"
      ]
    },
    {
      "cell_type": "markdown",
      "metadata": {
        "id": "pobJCiuGdzOJ"
      },
      "source": [
        "## 教材のオープン\n",
        "\n",
        "HTML版の教材の「Open in Colab」をクリックしたり、\n",
        "Google Drive上の教材を直接Colabratoryでオープンした場合、\n",
        "指定したノートブックがオープンされますが、ノートブックを操作した結果は\n",
        "Google Drive上に保存されません。\n",
        "ノートブックの上方にある「ドライブにコピー」のボタンを押せば、\n",
        "自分のGoogle Drive上にノートブックのコピーが作られてオープンされます。\n",
        "ノートブックを操作した結果はコピーに保存されます。"
      ]
    },
    {
      "cell_type": "markdown",
      "metadata": {
        "id": "zerud1cddzOM"
      },
      "source": [
        "## ノートブックのダウンロード\n",
        "\n",
        "Google Drive 上のノートブックをパソコンにダウンロードするには、\n",
        "Colaboratoryのファイルメニューで「.ipynb をダウンロード」を選択します。\n",
        "\n",
        "![](https://raw.githubusercontent.com/utokyo-ipp/utokyo-ipp.github.io/master/colab/./1/colab4.png)"
      ]
    },
    {
      "cell_type": "markdown",
      "metadata": {
        "id": "saTKUM0ldzOP"
      },
      "source": [
        "## ノートブックのアップロード（再び）\n",
        "\n",
        "最初のノートブックを開いた後に、別のノートブックを開くには、Colaboratoryのファイルメニューで\n",
        "「ノートブックをアップロード」を選択してください。\n",
        "\n",
        "![](https://raw.githubusercontent.com/utokyo-ipp/utokyo-ipp.github.io/master/colab/./1/colaboratory.png)\n",
        "\n",
        "## ノートブックの作成\n",
        "\n",
        "また、ノートブックを新たに作成するには、Colaboratoryのファイルメニューで\n",
        "「ノートブックを新規作成」を選択してください。\n",
        "`Untitled0.ipynb` という名前のノートブックが作られます。\n",
        "上方に表示されたタイトルをクリックすれば名前を変更することができます。"
      ]
    },
    {
      "cell_type": "markdown",
      "metadata": {
        "id": "BRW1c6q7dzOU"
      },
      "source": [
        "## ノートブックの操作\n",
        "\n",
        "ノートブックの上方のタイトルの下には、「ファイル」や「編集」などのメニュー、\n",
        "その下には「+ コード」と「+ テキスト」というボタンが表示されています。\n",
        "\n",
        "Ctrl+s（Macの場合は Cmd+s）を入力することによって、\n",
        "編集・操作中のノートブックを Google Drive のファイルにセーブできます。\n",
        "なお、ノートブックは適当なタイミングでオートセーブされます。\n",
        "ファイルメニューの右に「すべての変更を保存しました」と表示されていれば、\n",
        "Ctrl+s を入力する必要はありません。\n",
        "\n",
        "以下の参考文献は、Jupyter Notebook に関する一般的な解説です。\n",
        "jupyterコマンドを起動してブラウザでノートブックを使うのと、\n",
        "Google Colaboratory によりノートブックを使うのでは、\n",
        "インタフェースが大分異なっていることに注意してください。\n",
        "\n",
        "- https://jupyter.readthedocs.io/en/latest/"
      ]
    },
    {
      "cell_type": "markdown",
      "metadata": {
        "id": "ubVuMvp4dzOe"
      },
      "source": [
        "## セル\n",
        "\n",
        "ノートブックはセルから成り立っています。\n",
        "\n",
        "主に次の二種類のセルを使います。\n",
        "\n",
        "* Codeセル（コードセル）：\n",
        "Pythonのコードが書かれたセルです。\n",
        "Codeセルの左端には `[ ]` と表示されています。\n",
        "Codeセルの中のコードを実行するには、\n",
        "`[ ]` のところにマウスカーソルを移動してクリックします。\n",
        "`[ ]` のところにマウスカーソルを移動すると、●の中に▷が表示されます。\n",
        "これはプレイボタンを意味します。\n",
        "プレイボタンを押すとコードが実行され、その結果がセルの下部に挿入されます。\n",
        "（Shiftを押しながらEnterを押しても実行できます。）\n",
        "* Markdownセル（テキストセル）：\n",
        "説明が書かれたセルです。\n",
        "このセル自身はMarkdownセルです。"
      ]
    },
    {
      "cell_type": "code",
      "metadata": {
        "id": "IWsxxJQydzO5",
        "colab": {
          "base_uri": "https://localhost:8080/"
        },
        "outputId": "c96f07cf-a03f-42fb-8d42-01f91c171b57"
      },
      "source": [
        "1+1"
      ],
      "execution_count": 1,
      "outputs": [
        {
          "output_type": "execute_result",
          "data": {
            "text/plain": [
              "2"
            ]
          },
          "metadata": {},
          "execution_count": 1
        }
      ]
    },
    {
      "cell_type": "markdown",
      "metadata": {
        "id": "-aqJLI_ddzO9"
      },
      "source": [
        "## セルの編集\n",
        "\n",
        "Codeセル上のプレイボタンでないところにマウスカーソルを移動しクリックすると、\n",
        "Codeセルが選択され、文字カーソルが表示されて、セルの編集が可能になります。\n",
        "Ctrlの付かない文字はそのまま挿入されます。\n",
        "\n",
        "以下のような編集コマンドが使えます。\n",
        "\n",
        "* Ctrl+c: copy\n",
        "* Ctrl+x: cut\n",
        "* Ctrl+v: paste\n",
        "* Ctrl+z: undo\n",
        "* …\n",
        "\n",
        "Codeセルが選択されているとき、Shift+Enter（もしくはShift+Return）を入力すると、\n",
        "セルの中のコードが実行されて、次のセルが選択されます。\n",
        "\n",
        "## 練習\n",
        "\n",
        "次のCodeセルを選択して `10/3` と入力して実行してください。"
      ]
    },
    {
      "cell_type": "code",
      "metadata": {
        "id": "IptaSw7qdzPA",
        "colab": {
          "base_uri": "https://localhost:8080/"
        },
        "outputId": "4bf2ab87-6ae3-4a53-8d72-5a76794ec3e2"
      },
      "source": [
        "10/3"
      ],
      "execution_count": 2,
      "outputs": [
        {
          "output_type": "execute_result",
          "data": {
            "text/plain": [
              "3.3333333333333335"
            ]
          },
          "metadata": {},
          "execution_count": 2
        }
      ]
    },
    {
      "cell_type": "markdown",
      "metadata": {
        "id": "4ZLVWjR0dzPB"
      },
      "source": [
        "Codeセルの実行が終了し、別のセルが選択されると、\n",
        "セルの左端は `[2]` のようになり、`[ ]` の中に番号が入ります。\n",
        "この番号は、そのCodeセルが何番目に実行されたかを示すもので、\n",
        "Codeセルが実行されるたびに1ずつ増えます。\n",
        "同じセルを続けて実行すれば、この番号は1ずつ増えるでしょう。\n",
        "\n",
        "## セルの挿入\n",
        "\n",
        "Codeセルを新たに挿入するには、\n",
        "ファイルメニューの下の「+ コード」ボタンを押します。\n",
        "現在選択されているセルの下にCodeセルが挿入されます。\n",
        "\n",
        "たとえば、このMarkdownセルを選択してから、\n",
        "「+ コード」ボタンを押してみてください。\n",
        "このMarkdownセルを選択するには、マウスカーソルをここに持って来て\n",
        "クリックすればよいです。説明の全体が四角で囲まれるはずです。"
      ]
    },
    {
      "cell_type": "markdown",
      "metadata": {
        "id": "fIvdjVO1dzPD"
      },
      "source": [
        "Markdownセルを新たに挿入するには、\n",
        "ファイルメニューの下の「+ テキスト」ボタンを押します。\n",
        "なお、ここではMarkdownセルの説明は行っていません。\n",
        "\n",
        "## セルの実行が止まらないとき\n",
        "\n",
        "Codeセルの左端の●の中に□が表示され、\n",
        "その周りをノの字が回り続けているならば、セルのコードは実行中です。\n",
        "いつまでたってもコードの実行が終了しない場合は、\n",
        "そのアイコンを押して、コードの実行を強制終了してください。\n",
        "●の中に□が表示されたアイコンはストップボタンを意味します。\n",
        "\n",
        "たとえば、次のような例です。\n",
        "プレイボタンを押し実行中であることを確かめてから、\n",
        "ストップボタンを押してください。"
      ]
    },
    {
      "cell_type": "code",
      "metadata": {
        "id": "kDAkNtdEdzPE",
        "colab": {
          "base_uri": "https://localhost:8080/",
          "height": 185
        },
        "outputId": "14de5cfa-0d43-46cd-b40d-a46dfd221ee5"
      },
      "source": [
        "while True:\n",
        "    pass"
      ],
      "execution_count": 3,
      "outputs": [
        {
          "output_type": "error",
          "ename": "KeyboardInterrupt",
          "evalue": "ignored",
          "traceback": [
            "\u001b[0;31m---------------------------------------------------------------------------\u001b[0m",
            "\u001b[0;31mKeyboardInterrupt\u001b[0m                         Traceback (most recent call last)",
            "\u001b[0;32m<ipython-input-3-b7133701d76c>\u001b[0m in \u001b[0;36m<module>\u001b[0;34m()\u001b[0m\n\u001b[1;32m      1\u001b[0m \u001b[0;32mwhile\u001b[0m \u001b[0;32mTrue\u001b[0m\u001b[0;34m:\u001b[0m\u001b[0;34m\u001b[0m\u001b[0;34m\u001b[0m\u001b[0m\n\u001b[0;32m----> 2\u001b[0;31m     \u001b[0;32mpass\u001b[0m\u001b[0;34m\u001b[0m\u001b[0;34m\u001b[0m\u001b[0m\n\u001b[0m",
            "\u001b[0;31mKeyboardInterrupt\u001b[0m: "
          ]
        }
      ]
    },
    {
      "cell_type": "markdown",
      "metadata": {
        "id": "Ikm40w4YdzPF"
      },
      "source": [
        "## セルの操作\n",
        "\n",
        "セルを選択するとセルの右上に色々なボタンが表示されます。\n",
        "これらを押すことにより、セルの削除、セルの移動、コピーペーストなど、\n",
        "セルに対する各種の操作を行うことができます。\n",
        "\n",
        "## ノートブックの参照\n",
        "\n",
        "Colaboratoryが使用するノードブックは Google Drive 上にあります。\n",
        "右上の「共有」のボタンを押すことにより、\n",
        "ノートブックの共有設定を変えることができます。\n",
        "その上で、ノートブックが表示されているブラウザ上のURLを伝えることにより、\n",
        "教員やTAにノートブックを見せることができます。"
      ]
    },
    {
      "cell_type": "code",
      "metadata": {
        "id": "dq8CIq8pdzPH"
      },
      "source": [
        ""
      ],
      "execution_count": null,
      "outputs": []
    }
  ]
}